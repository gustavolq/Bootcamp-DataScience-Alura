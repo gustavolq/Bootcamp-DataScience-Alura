{
  "nbformat": 4,
  "nbformat_minor": 0,
  "metadata": {
    "colab": {
      "name": "Analise-Covid-SC.ipynb",
      "provenance": [],
      "collapsed_sections": [],
      "authorship_tag": "ABX9TyPMjp9GyrrAhRfXAE4FvyKj",
      "include_colab_link": true
    },
    "kernelspec": {
      "name": "python3",
      "display_name": "Python 3"
    },
    "language_info": {
      "name": "python"
    }
  },
  "cells": [
    {
      "cell_type": "markdown",
      "metadata": {
        "id": "view-in-github",
        "colab_type": "text"
      },
      "source": [
        "<a href=\"https://colab.research.google.com/github/gustavolq/Bootcamp-DataScience-Alura/blob/main/Modulo_02/Projeto/Analise_Covid_SC.ipynb\" target=\"_parent\"><img src=\"https://colab.research.google.com/assets/colab-badge.svg\" alt=\"Open In Colab\"/></a>"
      ]
    },
    {
      "cell_type": "markdown",
      "metadata": {
        "id": "LltqDfxWKizs"
      },
      "source": [
        "# **Análise de Dados do COVID-19 em Santa Catarina**\n",
        "\n",
        "[![linkedin](https://img.shields.io/badge/gustavoquadra-0077B5??style=plastic&logo=linkedin&logoColor=white)](https://www.linkedin.com/in/gustavoquadra/)\n",
        "[<img src=\"https://img.shields.io/badge/gglquadra@gmail.com-EA4335?style=plastic-square&logo=Gmail&logoColor=white\" />](mailto:gglquadra@gmail.com)\n",
        "\n",
        "<p align=\"left\">\n",
        "  <img width=\"700\" src=\"https://github.com/gustavolq/Bootcamp-DataScience-Alura/blob/main/Modulo_02/Outros/AnaliseDadosGif.gif?raw=true\">\n",
        "</p>\n",
        "\n",
        "Olá! Meu nome é Gustavo Luiz de Quadra e seja muito bem-vindo ao meu projeto referente ao **Módulo 02 - Visualização de Dados com Seaborn e Matplotlib** do Bootcamp de Data Science Aplicada da [Alura](https://www.alura.com.br/)!\n",
        "\n",
        "Caso você tenha interesse em verificar o que foi aprendido nesse segundo módulo, podes clicar [aqui](https://github.com/gustavolq/Bootcamp-DataScience-Alura/blob/main/Modulo_02/Aulas/Tratamento_Exploracao_Visualizacao_Dados.ipynb) para acessar as minhas anotações das aulas.\n",
        "\n",
        "**Sumário do Projeto**\n",
        "\n",
        "**1.** Introdução\n",
        "\n",
        "**2.** Definição do Problema de Negócio\n",
        "\n",
        "**3.** Preparação dos Dados\n",
        "\n",
        "**4.** Análise Exploratória dos Dados\n",
        "\n",
        "**5.** Criação de Hipóteses\n",
        "\n",
        "**6.** Conclusão\n",
        "\n",
        "**7.** Agradecimentos"
      ]
    },
    {
      "cell_type": "markdown",
      "metadata": {
        "id": "O8CB15BFMhqN"
      },
      "source": [
        "## **1. Introdução**\n",
        "\n",
        "O **COVID-19** é a doença causada por uma nova espécie de coronavírus, denominada **SARS-CoV-2** e pertence a uma família de vírus que já circulava no Brasil antes da pandemia e era responsável por grande parte dos resfriados comuns. A origem do vírus ainda está sendo estudada, mas é muito provável que ela teve origem em **Wuhan, China** através de morcegos no ano de 2019.\n",
        "\n",
        "O COVID-19 possui **sintomas leves** na maioria dos casos (tosse, dor de garganta, coriza), mas **pode ser extremamente agressiva** (falta de ar) à uma minoria. Costuma ser mais **perigoso para idosos com mais de 60 anos e pessoas com doenças pré-existentes**.\n",
        "\n",
        "Para a prevenção do COVID-19, é importante mantermos as **mãos higienizadas com alcool em gel, utilizarmos máscaras e evitarmos aglomerações**. E também, aliada as medidas de prevenção, felizmente, hoje (04/06/2021), **estamos em campanha de vacinação no mundo inteiro para vencermos essa pandemia!**"
      ]
    },
    {
      "cell_type": "markdown",
      "metadata": {
        "id": "EWOCMNFuMmbJ"
      },
      "source": [
        "##**2. Definição do Problema de Negócio**"
      ]
    },
    {
      "cell_type": "markdown",
      "metadata": {
        "id": "jLY9GFfRS-HF"
      },
      "source": [
        "###**2.1 Objetivo do Projeto**\n",
        "\n",
        "O objetivo principal do projeto será **realizar uma análise de dados** referente à diversas informações (idade, raça, municipio, sexo, sintomas...) **de pacientes que foram confirmados com COVID-19 no estado de Santa Catarina no Brasil**, buscando responder questionamentos e formular hipóteses para os nossos dados."
      ]
    },
    {
      "cell_type": "markdown",
      "metadata": {
        "id": "kDcgdPVWQrnJ"
      },
      "source": [
        "###**2.2 Dados Utilizados**\n",
        "\n",
        "A tabela de dados de pacientes confirmados com COVID-19 foi extraída do [Portal de Dados Abertos do Estado de Santa Catarina](http://dados.sc.gov.br/tr/dataset/covid-19-dados-anonimizados-de-casos-confirmados) em **04/06/2021** e sofreram um processo de manipulação para utilizarmos as seguintes informações :\n",
        "\n",
        "**Dicionário dos Dados** :\n",
        "- recuperados : Indicação de que o paciente foi recuperado\n",
        "- data_inicio_sintomas : Data do inicio dos sintomas\n",
        "- data_coleta : Data da coleta da amostra\n",
        "- sintomas : Sintomas do paciente\n",
        "- comorbidades : Comorbidades do paciente\n",
        "- sexo : Sexo biológico do paciente\n",
        "- municipio : Município de residência do paciente\n",
        "- obito : Indicação de que o paciente veio a óbito\n",
        "- data_obito : Data do óbito do paciente\n",
        "- idade : Idade do Paciente\n",
        "- raca : Classificação por raça do paciente\n",
        "\n",
        "**OBS :** Devido a limitação de armazenamento (25MB) de arquivos no GitHub, realizei a separação da tabela de dados em 5 arquivos menores."
      ]
    },
    {
      "cell_type": "markdown",
      "metadata": {
        "id": "SmETUJEeMmQi"
      },
      "source": [
        "##**3. Preparação dos Dados**"
      ]
    },
    {
      "cell_type": "markdown",
      "metadata": {
        "id": "vkyWW-BUMmHj"
      },
      "source": [
        "##**4. Análise Exploratória dos Dados**"
      ]
    },
    {
      "cell_type": "markdown",
      "metadata": {
        "id": "E6UhrK8oMmAK"
      },
      "source": [
        "##**5. Criação de Hipóteses**"
      ]
    },
    {
      "cell_type": "markdown",
      "metadata": {
        "id": "W20tjIA8Ml0_"
      },
      "source": [
        "##**6. Conclusão**"
      ]
    }
  ]
}