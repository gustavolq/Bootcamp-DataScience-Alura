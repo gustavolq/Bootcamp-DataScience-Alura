{
  "nbformat": 4,
  "nbformat_minor": 0,
  "metadata": {
    "colab": {
      "name": "Tratamento-Exploracao-Visualizacao-Dados.ipynb",
      "provenance": [],
      "authorship_tag": "ABX9TyPl0SBuAXTTA6+R4P5JK1Cf",
      "include_colab_link": true
    },
    "kernelspec": {
      "name": "python3",
      "display_name": "Python 3"
    },
    "language_info": {
      "name": "python"
    }
  },
  "cells": [
    {
      "cell_type": "markdown",
      "metadata": {
        "id": "view-in-github",
        "colab_type": "text"
      },
      "source": [
        "<a href=\"https://colab.research.google.com/github/gustavolq/Bootcamp-DataScience-Alura/blob/main/Modulo_02/Aulas/Tratamento_Exploracao_Visualizacao_Dados.ipynb\" target=\"_parent\"><img src=\"https://colab.research.google.com/assets/colab-badge.svg\" alt=\"Open In Colab\"/></a>"
      ]
    },
    {
      "cell_type": "markdown",
      "metadata": {
        "id": "JBVbqKahX024"
      },
      "source": [
        "# **Tratamento, Exploração e Visualização de Dados**"
      ]
    },
    {
      "cell_type": "markdown",
      "metadata": {
        "id": "dW7crVk0XxDU"
      },
      "source": [
        "Olá! Seja bem-vindo ao meu Notebook referente ao segundo módulo do Bootcamp de Data Science Aplicada da Alura.\n",
        "\n",
        "Nesse notebook, iremos focar nos seguintes pontos :\n",
        "- Avançar os conhecimentos em Python e Pandas para analisar dados reais.\n",
        "- Criar gráficos estilizados com Seaborn\n",
        "- Aprender como usar o pandas na manipulação dos dados.\n",
        "- Analisar e explorar os dados criando hipótese de forma analítica.\n",
        "- Criar visualizações e boas práticas."
      ]
    },
    {
      "cell_type": "markdown",
      "metadata": {
        "id": "QBvr-GWrYJ5M"
      },
      "source": [
        "## **1. Fontes externas, limpeza e manipulação de dados**"
      ]
    },
    {
      "cell_type": "markdown",
      "metadata": {
        "id": "83NgtIvdge0T"
      },
      "source": [
        "### **1.1 Introdução**\n",
        "\n",
        "Iremos continuar a análise do primeiro módulo, querendo gerar mais visualizações, aprofundando nossos conhecimentos em Python e Pandas.\n",
        "\n",
        "Nesse módulo iremos continuar trabalhando com os dados de gastos na produção hospitalar do SUS."
      ]
    },
    {
      "cell_type": "markdown",
      "metadata": {
        "id": "OBSEgb5jhbSv"
      },
      "source": [
        "### **Usando Fontes Alternativas de Dados**"
      ]
    },
    {
      "cell_type": "code",
      "metadata": {
        "id": "Dn_309RYYHoM"
      },
      "source": [
        ""
      ],
      "execution_count": null,
      "outputs": []
    }
  ]
}