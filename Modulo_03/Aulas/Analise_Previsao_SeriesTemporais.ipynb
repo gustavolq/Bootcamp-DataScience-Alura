{
  "nbformat": 4,
  "nbformat_minor": 0,
  "metadata": {
    "colab": {
      "name": "Analise-Previsao-SeriesTemporais.ipynb",
      "provenance": [],
      "collapsed_sections": [],
      "authorship_tag": "ABX9TyOJ5LqtX6nqBLFFulplenaQ",
      "include_colab_link": true
    },
    "kernelspec": {
      "name": "python3",
      "display_name": "Python 3"
    },
    "language_info": {
      "name": "python"
    }
  },
  "cells": [
    {
      "cell_type": "markdown",
      "metadata": {
        "id": "view-in-github",
        "colab_type": "text"
      },
      "source": [
        "<a href=\"https://colab.research.google.com/github/gustavolq/Bootcamp-DataScience-Alura/blob/main/Modulo_03/Aulas/Analise_Previsao_SeriesTemporais.ipynb\" target=\"_parent\"><img src=\"https://colab.research.google.com/assets/colab-badge.svg\" alt=\"Open In Colab\"/></a>"
      ]
    },
    {
      "cell_type": "markdown",
      "metadata": {
        "id": "ATs78CLDsHXG"
      },
      "source": [
        "# **Análise e Previsão de Séries Temporais**"
      ]
    },
    {
      "cell_type": "markdown",
      "metadata": {
        "id": "m_KOh_NbsPyV"
      },
      "source": [
        "Olá! Sejá muito bem-vindo(a) ao meu Notebook referente à aula do terceiro módulo do Bootcamp de Data Science Aplicada da Alura\n",
        "\n",
        "Nesse módulo, iremos focar os nossos conhecimentos nos seguintes pontos : \n",
        "- Aprender a descrever seus dados com auxilio da estatística\n",
        "- Criar tabelas de frequência para dados qualitativos e quantitativos\n",
        "- Conhecer as medidas de centralidade, dispersão e separatrizes\n",
        "- Entender o que são os testes estatísticos\n",
        "- Aprender a utilizar bibliotecas como StatisModel"
      ]
    },
    {
      "cell_type": "markdown",
      "metadata": {
        "id": "pDw51tIlsqp-"
      },
      "source": [
        "# **1. Entendendo a série temporal**"
      ]
    },
    {
      "cell_type": "markdown",
      "metadata": {
        "id": "xoNiaTK9udTL"
      },
      "source": [
        "### **1.1 Coleta de Dados e Primeiras Análises**\n",
        "\n",
        "Os dados utilizados foram retirados do site https://www.seade.gov.br/coronavirus/."
      ]
    },
    {
      "cell_type": "code",
      "metadata": {
        "id": "l8hLWNhtrrBe"
      },
      "source": [
        "url = 'https://github.com/gustavolq/Bootcamp-DataScience-Alura/blob/main/Modulo_03/Aulas/Dados-Covid-SP.zip?raw=true'"
      ],
      "execution_count": 1,
      "outputs": []
    },
    {
      "cell_type": "code",
      "metadata": {
        "id": "hWYO8iyfwQ1Z"
      },
      "source": [
        "import pandas as pd\n",
        "\n",
        "dataset_covid = pd.read_csv(url, compression='zip', sep = ';')"
      ],
      "execution_count": 5,
      "outputs": []
    },
    {
      "cell_type": "code",
      "metadata": {
        "colab": {
          "base_uri": "https://localhost:8080/",
          "height": 377
        },
        "id": "r0ySUun-witu",
        "outputId": "d1676387-01fc-4c07-8983-85fba204a0c5"
      },
      "source": [
        "dataset_covid.head()"
      ],
      "execution_count": 7,
      "outputs": [
        {
          "output_type": "execute_result",
          "data": {
            "text/html": [
              "<div>\n",
              "<style scoped>\n",
              "    .dataframe tbody tr th:only-of-type {\n",
              "        vertical-align: middle;\n",
              "    }\n",
              "\n",
              "    .dataframe tbody tr th {\n",
              "        vertical-align: top;\n",
              "    }\n",
              "\n",
              "    .dataframe thead th {\n",
              "        text-align: right;\n",
              "    }\n",
              "</style>\n",
              "<table border=\"1\" class=\"dataframe\">\n",
              "  <thead>\n",
              "    <tr style=\"text-align: right;\">\n",
              "      <th></th>\n",
              "      <th>nome_munic</th>\n",
              "      <th>codigo_ibge</th>\n",
              "      <th>dia</th>\n",
              "      <th>mes</th>\n",
              "      <th>datahora</th>\n",
              "      <th>casos</th>\n",
              "      <th>casos_novos</th>\n",
              "      <th>casos_pc</th>\n",
              "      <th>casos_mm7d</th>\n",
              "      <th>obitos</th>\n",
              "      <th>obitos_novos</th>\n",
              "      <th>obitos_pc</th>\n",
              "      <th>obitos_mm7d</th>\n",
              "      <th>letalidade</th>\n",
              "      <th>nome_ra</th>\n",
              "      <th>cod_ra</th>\n",
              "      <th>nome_drs</th>\n",
              "      <th>cod_drs</th>\n",
              "      <th>pop</th>\n",
              "      <th>pop_60</th>\n",
              "      <th>area</th>\n",
              "      <th>map_leg</th>\n",
              "      <th>map_leg_s</th>\n",
              "      <th>latitude</th>\n",
              "      <th>longitude</th>\n",
              "      <th>semana_epidem</th>\n",
              "    </tr>\n",
              "  </thead>\n",
              "  <tbody>\n",
              "    <tr>\n",
              "      <th>0</th>\n",
              "      <td>Adamantina</td>\n",
              "      <td>3500105</td>\n",
              "      <td>25</td>\n",
              "      <td>2</td>\n",
              "      <td>2020-02-25</td>\n",
              "      <td>0</td>\n",
              "      <td>0</td>\n",
              "      <td>0,000000e+00</td>\n",
              "      <td>0,0000000</td>\n",
              "      <td>0</td>\n",
              "      <td>0</td>\n",
              "      <td>0,000000e+00</td>\n",
              "      <td>0,0000000</td>\n",
              "      <td>0,0000000000</td>\n",
              "      <td>RA de Presidente Prudente</td>\n",
              "      <td>9</td>\n",
              "      <td>Marília</td>\n",
              "      <td>5</td>\n",
              "      <td>33894</td>\n",
              "      <td>7398</td>\n",
              "      <td>41199</td>\n",
              "      <td>0</td>\n",
              "      <td>8.0</td>\n",
              "      <td>-21,6820</td>\n",
              "      <td>-51,0737</td>\n",
              "      <td>9</td>\n",
              "    </tr>\n",
              "    <tr>\n",
              "      <th>1</th>\n",
              "      <td>Adolfo</td>\n",
              "      <td>3500204</td>\n",
              "      <td>25</td>\n",
              "      <td>2</td>\n",
              "      <td>2020-02-25</td>\n",
              "      <td>0</td>\n",
              "      <td>0</td>\n",
              "      <td>0,000000e+00</td>\n",
              "      <td>0,0000000</td>\n",
              "      <td>0</td>\n",
              "      <td>0</td>\n",
              "      <td>0,000000e+00</td>\n",
              "      <td>0,0000000</td>\n",
              "      <td>0,0000000000</td>\n",
              "      <td>RA de São José do Rio Preto</td>\n",
              "      <td>14</td>\n",
              "      <td>São José do Rio Preto</td>\n",
              "      <td>15</td>\n",
              "      <td>3447</td>\n",
              "      <td>761</td>\n",
              "      <td>21106</td>\n",
              "      <td>0</td>\n",
              "      <td>8.0</td>\n",
              "      <td>-21,2325</td>\n",
              "      <td>-49,6451</td>\n",
              "      <td>9</td>\n",
              "    </tr>\n",
              "    <tr>\n",
              "      <th>2</th>\n",
              "      <td>Aguaí</td>\n",
              "      <td>3500303</td>\n",
              "      <td>25</td>\n",
              "      <td>2</td>\n",
              "      <td>2020-02-25</td>\n",
              "      <td>0</td>\n",
              "      <td>0</td>\n",
              "      <td>0,000000e+00</td>\n",
              "      <td>0,0000000</td>\n",
              "      <td>0</td>\n",
              "      <td>0</td>\n",
              "      <td>0,000000e+00</td>\n",
              "      <td>0,0000000</td>\n",
              "      <td>0,0000000000</td>\n",
              "      <td>RA de Campinas</td>\n",
              "      <td>4</td>\n",
              "      <td>São João da Boa Vista</td>\n",
              "      <td>14</td>\n",
              "      <td>35608</td>\n",
              "      <td>5245</td>\n",
              "      <td>47455</td>\n",
              "      <td>0</td>\n",
              "      <td>8.0</td>\n",
              "      <td>-22,0572</td>\n",
              "      <td>-46,9735</td>\n",
              "      <td>9</td>\n",
              "    </tr>\n",
              "    <tr>\n",
              "      <th>3</th>\n",
              "      <td>Águas da Prata</td>\n",
              "      <td>3500402</td>\n",
              "      <td>25</td>\n",
              "      <td>2</td>\n",
              "      <td>2020-02-25</td>\n",
              "      <td>0</td>\n",
              "      <td>0</td>\n",
              "      <td>0,000000e+00</td>\n",
              "      <td>0,0000000</td>\n",
              "      <td>0</td>\n",
              "      <td>0</td>\n",
              "      <td>0,000000e+00</td>\n",
              "      <td>0,0000000</td>\n",
              "      <td>0,0000000000</td>\n",
              "      <td>RA de Campinas</td>\n",
              "      <td>4</td>\n",
              "      <td>São João da Boa Vista</td>\n",
              "      <td>14</td>\n",
              "      <td>7797</td>\n",
              "      <td>1729</td>\n",
              "      <td>14267</td>\n",
              "      <td>0</td>\n",
              "      <td>8.0</td>\n",
              "      <td>-21,9319</td>\n",
              "      <td>-46,7176</td>\n",
              "      <td>9</td>\n",
              "    </tr>\n",
              "    <tr>\n",
              "      <th>4</th>\n",
              "      <td>Águas de Lindóia</td>\n",
              "      <td>3500501</td>\n",
              "      <td>25</td>\n",
              "      <td>2</td>\n",
              "      <td>2020-02-25</td>\n",
              "      <td>0</td>\n",
              "      <td>0</td>\n",
              "      <td>0,000000e+00</td>\n",
              "      <td>0,0000000</td>\n",
              "      <td>0</td>\n",
              "      <td>0</td>\n",
              "      <td>0,000000e+00</td>\n",
              "      <td>0,0000000</td>\n",
              "      <td>0,0000000000</td>\n",
              "      <td>RA de Campinas</td>\n",
              "      <td>4</td>\n",
              "      <td>Campinas</td>\n",
              "      <td>3</td>\n",
              "      <td>18374</td>\n",
              "      <td>3275</td>\n",
              "      <td>6013</td>\n",
              "      <td>0</td>\n",
              "      <td>8.0</td>\n",
              "      <td>-22,4733</td>\n",
              "      <td>-46,6314</td>\n",
              "      <td>9</td>\n",
              "    </tr>\n",
              "  </tbody>\n",
              "</table>\n",
              "</div>"
            ],
            "text/plain": [
              "         nome_munic  codigo_ibge  dia  ...  latitude longitude  semana_epidem\n",
              "0        Adamantina      3500105   25  ...  -21,6820  -51,0737              9\n",
              "1            Adolfo      3500204   25  ...  -21,2325  -49,6451              9\n",
              "2             Aguaí      3500303   25  ...  -22,0572  -46,9735              9\n",
              "3    Águas da Prata      3500402   25  ...  -21,9319  -46,7176              9\n",
              "4  Águas de Lindóia      3500501   25  ...  -22,4733  -46,6314              9\n",
              "\n",
              "[5 rows x 26 columns]"
            ]
          },
          "metadata": {
            "tags": []
          },
          "execution_count": 7
        }
      ]
    },
    {
      "cell_type": "code",
      "metadata": {
        "colab": {
          "base_uri": "https://localhost:8080/",
          "height": 377
        },
        "id": "fVMkGJoSxs6u",
        "outputId": "7dc14ded-1c42-4eae-dd09-7c42be03b0f8"
      },
      "source": [
        "# É interessante realizarmos a transformação do dados de datahora para datetime. \n",
        "dataset_covid['datahora'] = pd.to_datetime(dataset_covid['datahora'], format = '%Y-%m-%d')\n",
        "dataset_covid.head()"
      ],
      "execution_count": 13,
      "outputs": [
        {
          "output_type": "execute_result",
          "data": {
            "text/html": [
              "<div>\n",
              "<style scoped>\n",
              "    .dataframe tbody tr th:only-of-type {\n",
              "        vertical-align: middle;\n",
              "    }\n",
              "\n",
              "    .dataframe tbody tr th {\n",
              "        vertical-align: top;\n",
              "    }\n",
              "\n",
              "    .dataframe thead th {\n",
              "        text-align: right;\n",
              "    }\n",
              "</style>\n",
              "<table border=\"1\" class=\"dataframe\">\n",
              "  <thead>\n",
              "    <tr style=\"text-align: right;\">\n",
              "      <th></th>\n",
              "      <th>nome_munic</th>\n",
              "      <th>codigo_ibge</th>\n",
              "      <th>dia</th>\n",
              "      <th>mes</th>\n",
              "      <th>datahora</th>\n",
              "      <th>casos</th>\n",
              "      <th>casos_novos</th>\n",
              "      <th>casos_pc</th>\n",
              "      <th>casos_mm7d</th>\n",
              "      <th>obitos</th>\n",
              "      <th>obitos_novos</th>\n",
              "      <th>obitos_pc</th>\n",
              "      <th>obitos_mm7d</th>\n",
              "      <th>letalidade</th>\n",
              "      <th>nome_ra</th>\n",
              "      <th>cod_ra</th>\n",
              "      <th>nome_drs</th>\n",
              "      <th>cod_drs</th>\n",
              "      <th>pop</th>\n",
              "      <th>pop_60</th>\n",
              "      <th>area</th>\n",
              "      <th>map_leg</th>\n",
              "      <th>map_leg_s</th>\n",
              "      <th>latitude</th>\n",
              "      <th>longitude</th>\n",
              "      <th>semana_epidem</th>\n",
              "    </tr>\n",
              "  </thead>\n",
              "  <tbody>\n",
              "    <tr>\n",
              "      <th>0</th>\n",
              "      <td>Adamantina</td>\n",
              "      <td>3500105</td>\n",
              "      <td>25</td>\n",
              "      <td>2</td>\n",
              "      <td>2020-02-25</td>\n",
              "      <td>0</td>\n",
              "      <td>0</td>\n",
              "      <td>0,000000e+00</td>\n",
              "      <td>0,0000000</td>\n",
              "      <td>0</td>\n",
              "      <td>0</td>\n",
              "      <td>0,000000e+00</td>\n",
              "      <td>0,0000000</td>\n",
              "      <td>0,0000000000</td>\n",
              "      <td>RA de Presidente Prudente</td>\n",
              "      <td>9</td>\n",
              "      <td>Marília</td>\n",
              "      <td>5</td>\n",
              "      <td>33894</td>\n",
              "      <td>7398</td>\n",
              "      <td>41199</td>\n",
              "      <td>0</td>\n",
              "      <td>8.0</td>\n",
              "      <td>-21,6820</td>\n",
              "      <td>-51,0737</td>\n",
              "      <td>9</td>\n",
              "    </tr>\n",
              "    <tr>\n",
              "      <th>1</th>\n",
              "      <td>Adolfo</td>\n",
              "      <td>3500204</td>\n",
              "      <td>25</td>\n",
              "      <td>2</td>\n",
              "      <td>2020-02-25</td>\n",
              "      <td>0</td>\n",
              "      <td>0</td>\n",
              "      <td>0,000000e+00</td>\n",
              "      <td>0,0000000</td>\n",
              "      <td>0</td>\n",
              "      <td>0</td>\n",
              "      <td>0,000000e+00</td>\n",
              "      <td>0,0000000</td>\n",
              "      <td>0,0000000000</td>\n",
              "      <td>RA de São José do Rio Preto</td>\n",
              "      <td>14</td>\n",
              "      <td>São José do Rio Preto</td>\n",
              "      <td>15</td>\n",
              "      <td>3447</td>\n",
              "      <td>761</td>\n",
              "      <td>21106</td>\n",
              "      <td>0</td>\n",
              "      <td>8.0</td>\n",
              "      <td>-21,2325</td>\n",
              "      <td>-49,6451</td>\n",
              "      <td>9</td>\n",
              "    </tr>\n",
              "    <tr>\n",
              "      <th>2</th>\n",
              "      <td>Aguaí</td>\n",
              "      <td>3500303</td>\n",
              "      <td>25</td>\n",
              "      <td>2</td>\n",
              "      <td>2020-02-25</td>\n",
              "      <td>0</td>\n",
              "      <td>0</td>\n",
              "      <td>0,000000e+00</td>\n",
              "      <td>0,0000000</td>\n",
              "      <td>0</td>\n",
              "      <td>0</td>\n",
              "      <td>0,000000e+00</td>\n",
              "      <td>0,0000000</td>\n",
              "      <td>0,0000000000</td>\n",
              "      <td>RA de Campinas</td>\n",
              "      <td>4</td>\n",
              "      <td>São João da Boa Vista</td>\n",
              "      <td>14</td>\n",
              "      <td>35608</td>\n",
              "      <td>5245</td>\n",
              "      <td>47455</td>\n",
              "      <td>0</td>\n",
              "      <td>8.0</td>\n",
              "      <td>-22,0572</td>\n",
              "      <td>-46,9735</td>\n",
              "      <td>9</td>\n",
              "    </tr>\n",
              "    <tr>\n",
              "      <th>3</th>\n",
              "      <td>Águas da Prata</td>\n",
              "      <td>3500402</td>\n",
              "      <td>25</td>\n",
              "      <td>2</td>\n",
              "      <td>2020-02-25</td>\n",
              "      <td>0</td>\n",
              "      <td>0</td>\n",
              "      <td>0,000000e+00</td>\n",
              "      <td>0,0000000</td>\n",
              "      <td>0</td>\n",
              "      <td>0</td>\n",
              "      <td>0,000000e+00</td>\n",
              "      <td>0,0000000</td>\n",
              "      <td>0,0000000000</td>\n",
              "      <td>RA de Campinas</td>\n",
              "      <td>4</td>\n",
              "      <td>São João da Boa Vista</td>\n",
              "      <td>14</td>\n",
              "      <td>7797</td>\n",
              "      <td>1729</td>\n",
              "      <td>14267</td>\n",
              "      <td>0</td>\n",
              "      <td>8.0</td>\n",
              "      <td>-21,9319</td>\n",
              "      <td>-46,7176</td>\n",
              "      <td>9</td>\n",
              "    </tr>\n",
              "    <tr>\n",
              "      <th>4</th>\n",
              "      <td>Águas de Lindóia</td>\n",
              "      <td>3500501</td>\n",
              "      <td>25</td>\n",
              "      <td>2</td>\n",
              "      <td>2020-02-25</td>\n",
              "      <td>0</td>\n",
              "      <td>0</td>\n",
              "      <td>0,000000e+00</td>\n",
              "      <td>0,0000000</td>\n",
              "      <td>0</td>\n",
              "      <td>0</td>\n",
              "      <td>0,000000e+00</td>\n",
              "      <td>0,0000000</td>\n",
              "      <td>0,0000000000</td>\n",
              "      <td>RA de Campinas</td>\n",
              "      <td>4</td>\n",
              "      <td>Campinas</td>\n",
              "      <td>3</td>\n",
              "      <td>18374</td>\n",
              "      <td>3275</td>\n",
              "      <td>6013</td>\n",
              "      <td>0</td>\n",
              "      <td>8.0</td>\n",
              "      <td>-22,4733</td>\n",
              "      <td>-46,6314</td>\n",
              "      <td>9</td>\n",
              "    </tr>\n",
              "  </tbody>\n",
              "</table>\n",
              "</div>"
            ],
            "text/plain": [
              "         nome_munic  codigo_ibge  dia  ...  latitude longitude  semana_epidem\n",
              "0        Adamantina      3500105   25  ...  -21,6820  -51,0737              9\n",
              "1            Adolfo      3500204   25  ...  -21,2325  -49,6451              9\n",
              "2             Aguaí      3500303   25  ...  -22,0572  -46,9735              9\n",
              "3    Águas da Prata      3500402   25  ...  -21,9319  -46,7176              9\n",
              "4  Águas de Lindóia      3500501   25  ...  -22,4733  -46,6314              9\n",
              "\n",
              "[5 rows x 26 columns]"
            ]
          },
          "metadata": {
            "tags": []
          },
          "execution_count": 13
        }
      ]
    },
    {
      "cell_type": "code",
      "metadata": {
        "id": "k26YziXZy0iJ"
      },
      "source": [
        "import matplotlib as mpl\n",
        "mpl.rcParams['font.size'] = 18\n",
        "mpl.rcParams['figure.figsize'] = (15,8)"
      ],
      "execution_count": 16,
      "outputs": []
    },
    {
      "cell_type": "markdown",
      "metadata": {
        "id": "BgIpMj8ozI3l"
      },
      "source": [
        "Abaixo, podemos verificar que possuímos uma linha azul mais forte que representa a média dos valores e os pontos máximos e minímos na região mais clara."
      ]
    },
    {
      "cell_type": "code",
      "metadata": {
        "colab": {
          "base_uri": "https://localhost:8080/",
          "height": 502
        },
        "id": "F_b5x-IZwvq4",
        "outputId": "32be566a-54b0-4785-ce45-2662b3ffa7f4"
      },
      "source": [
        "import matplotlib.pyplot as plt\n",
        "import seaborn as sns\n",
        "sns.set()\n",
        "\n",
        "# É interessante verificarmos que a categoria datahora não está sendo indicado como datetime e não está sendo muito bem interpretado pelo seaborn\n",
        "sns.lineplot(x = 'datahora', y = 'casos', data = dataset_covid)\n",
        "plt.show()"
      ],
      "execution_count": 20,
      "outputs": [
        {
          "output_type": "display_data",
          "data": {
            "image/png": "[encoded data removed]",
            "text/plain": [
              "<Figure size 1080x576 with 1 Axes>"
            ]
          },
          "metadata": {
            "tags": []
          }
        }
      ]
    },
    {
      "cell_type": "markdown",
      "metadata": {
        "id": "JleciZLs0KOD"
      },
      "source": [
        "$$ e^x $$"
      ]
    },
    {
      "cell_type": "code",
      "metadata": {
        "id": "QFJUCTVgzS9Y"
      },
      "source": [
        "# Demonstração de um gráfico exponencial\n",
        "import numpy as np\n",
        "eixo_x = np.linspace(-2, 2, 100)\n",
        "y_exp = np.exp(eixo_x)"
      ],
      "execution_count": 23,
      "outputs": []
    },
    {
      "cell_type": "code",
      "metadata": {
        "colab": {
          "base_uri": "https://localhost:8080/",
          "height": 502
        },
        "id": "nKzU93rI0YTl",
        "outputId": "327e885d-e2ad-4660-ddb4-4300ea165569"
      },
      "source": [
        "sns.lineplot(x = eixo_x, y = y_exp)"
      ],
      "execution_count": 25,
      "outputs": [
        {
          "output_type": "execute_result",
          "data": {
            "text/plain": [
              "<matplotlib.axes._subplots.AxesSubplot at 0x7f71ed9de750>"
            ]
          },
          "metadata": {
            "tags": []
          },
          "execution_count": 25
        },
        {
          "output_type": "display_data",
          "data": {
            "image/png": "[encoded data removed]",
            "text/plain": [
              "<Figure size 1080x576 with 1 Axes>"
            ]
          },
          "metadata": {
            "tags": []
          }
        }
      ]
    },
    {
      "cell_type": "markdown",
      "metadata": {
        "id": "3utAHpSp1DLj"
      },
      "source": [
        "$$ log_2 2 = 1 $$\n",
        "$$ log_2 2^x = x $$\n",
        "$$ log_e e^x = x $$"
      ]
    },
    {
      "cell_type": "code",
      "metadata": {
        "colab": {
          "base_uri": "https://localhost:8080/",
          "height": 485
        },
        "id": "Hvqm0tm00Y3C",
        "outputId": "85d8f1cc-de17-4da7-bcb3-4136082c1752"
      },
      "source": [
        "sns.lineplot(x = eixo_x, y = y_exp)\n",
        "plt.yscale('log')"
      ],
      "execution_count": 26,
      "outputs": [
        {
          "output_type": "display_data",
          "data": {
            "image/png": "[encoded data removed]",
            "text/plain": [
              "<Figure size 1080x576 with 1 Axes>"
            ]
          },
          "metadata": {
            "tags": []
          }
        }
      ]
    },
    {
      "cell_type": "code",
      "metadata": {
        "colab": {
          "base_uri": "https://localhost:8080/",
          "height": 394
        },
        "id": "EMMXXa6z1oeL",
        "outputId": "79519d36-da8f-4579-9d25-05b0c5bda985"
      },
      "source": [
        "# Aplicando para o municipio de São Paulo\n",
        "dados_sp = dataset_covid.query('nome_munic == \"São Paulo\"')\n",
        "dados_sp.head()"
      ],
      "execution_count": 30,
      "outputs": [
        {
          "output_type": "execute_result",
          "data": {
            "text/html": [
              "<div>\n",
              "<style scoped>\n",
              "    .dataframe tbody tr th:only-of-type {\n",
              "        vertical-align: middle;\n",
              "    }\n",
              "\n",
              "    .dataframe tbody tr th {\n",
              "        vertical-align: top;\n",
              "    }\n",
              "\n",
              "    .dataframe thead th {\n",
              "        text-align: right;\n",
              "    }\n",
              "</style>\n",
              "<table border=\"1\" class=\"dataframe\">\n",
              "  <thead>\n",
              "    <tr style=\"text-align: right;\">\n",
              "      <th></th>\n",
              "      <th>nome_munic</th>\n",
              "      <th>codigo_ibge</th>\n",
              "      <th>dia</th>\n",
              "      <th>mes</th>\n",
              "      <th>datahora</th>\n",
              "      <th>casos</th>\n",
              "      <th>casos_novos</th>\n",
              "      <th>casos_pc</th>\n",
              "      <th>casos_mm7d</th>\n",
              "      <th>obitos</th>\n",
              "      <th>obitos_novos</th>\n",
              "      <th>obitos_pc</th>\n",
              "      <th>obitos_mm7d</th>\n",
              "      <th>letalidade</th>\n",
              "      <th>nome_ra</th>\n",
              "      <th>cod_ra</th>\n",
              "      <th>nome_drs</th>\n",
              "      <th>cod_drs</th>\n",
              "      <th>pop</th>\n",
              "      <th>pop_60</th>\n",
              "      <th>area</th>\n",
              "      <th>map_leg</th>\n",
              "      <th>map_leg_s</th>\n",
              "      <th>latitude</th>\n",
              "      <th>longitude</th>\n",
              "      <th>semana_epidem</th>\n",
              "    </tr>\n",
              "  </thead>\n",
              "  <tbody>\n",
              "    <tr>\n",
              "      <th>562</th>\n",
              "      <td>São Paulo</td>\n",
              "      <td>3550308</td>\n",
              "      <td>25</td>\n",
              "      <td>2</td>\n",
              "      <td>2020-02-25</td>\n",
              "      <td>1</td>\n",
              "      <td>0</td>\n",
              "      <td>8,424841e-03</td>\n",
              "      <td>0,0000000</td>\n",
              "      <td>0</td>\n",
              "      <td>0</td>\n",
              "      <td>0,000000e+00</td>\n",
              "      <td>0,0000000</td>\n",
              "      <td>0,0000000000</td>\n",
              "      <td>RM de São Paulo</td>\n",
              "      <td>10</td>\n",
              "      <td>Grande São Paulo</td>\n",
              "      <td>10</td>\n",
              "      <td>11869660</td>\n",
              "      <td>1853286</td>\n",
              "      <td>152111</td>\n",
              "      <td>&lt;50</td>\n",
              "      <td>7.0</td>\n",
              "      <td>-23,5329</td>\n",
              "      <td>-46,6395</td>\n",
              "      <td>9</td>\n",
              "    </tr>\n",
              "    <tr>\n",
              "      <th>1207</th>\n",
              "      <td>São Paulo</td>\n",
              "      <td>3550308</td>\n",
              "      <td>26</td>\n",
              "      <td>2</td>\n",
              "      <td>2020-02-26</td>\n",
              "      <td>1</td>\n",
              "      <td>0</td>\n",
              "      <td>8,424841e-03</td>\n",
              "      <td>0,0000000</td>\n",
              "      <td>0</td>\n",
              "      <td>0</td>\n",
              "      <td>0,000000e+00</td>\n",
              "      <td>0,0000000</td>\n",
              "      <td>0,0000000000</td>\n",
              "      <td>RM de São Paulo</td>\n",
              "      <td>10</td>\n",
              "      <td>Grande São Paulo</td>\n",
              "      <td>10</td>\n",
              "      <td>11869660</td>\n",
              "      <td>1853286</td>\n",
              "      <td>152111</td>\n",
              "      <td>&lt;50</td>\n",
              "      <td>7.0</td>\n",
              "      <td>-23,5329</td>\n",
              "      <td>-46,6395</td>\n",
              "      <td>9</td>\n",
              "    </tr>\n",
              "    <tr>\n",
              "      <th>1852</th>\n",
              "      <td>São Paulo</td>\n",
              "      <td>3550308</td>\n",
              "      <td>27</td>\n",
              "      <td>2</td>\n",
              "      <td>2020-02-27</td>\n",
              "      <td>1</td>\n",
              "      <td>0</td>\n",
              "      <td>8,424841e-03</td>\n",
              "      <td>0,0000000</td>\n",
              "      <td>0</td>\n",
              "      <td>0</td>\n",
              "      <td>0,000000e+00</td>\n",
              "      <td>0,0000000</td>\n",
              "      <td>0,0000000000</td>\n",
              "      <td>RM de São Paulo</td>\n",
              "      <td>10</td>\n",
              "      <td>Grande São Paulo</td>\n",
              "      <td>10</td>\n",
              "      <td>11869660</td>\n",
              "      <td>1853286</td>\n",
              "      <td>152111</td>\n",
              "      <td>&lt;50</td>\n",
              "      <td>7.0</td>\n",
              "      <td>-23,5329</td>\n",
              "      <td>-46,6395</td>\n",
              "      <td>9</td>\n",
              "    </tr>\n",
              "    <tr>\n",
              "      <th>2497</th>\n",
              "      <td>São Paulo</td>\n",
              "      <td>3550308</td>\n",
              "      <td>28</td>\n",
              "      <td>2</td>\n",
              "      <td>2020-02-28</td>\n",
              "      <td>2</td>\n",
              "      <td>1</td>\n",
              "      <td>1,684968e-02</td>\n",
              "      <td>0,0000000</td>\n",
              "      <td>0</td>\n",
              "      <td>0</td>\n",
              "      <td>0,000000e+00</td>\n",
              "      <td>0,0000000</td>\n",
              "      <td>0,0000000000</td>\n",
              "      <td>RM de São Paulo</td>\n",
              "      <td>10</td>\n",
              "      <td>Grande São Paulo</td>\n",
              "      <td>10</td>\n",
              "      <td>11869660</td>\n",
              "      <td>1853286</td>\n",
              "      <td>152111</td>\n",
              "      <td>&lt;50</td>\n",
              "      <td>7.0</td>\n",
              "      <td>-23,5329</td>\n",
              "      <td>-46,6395</td>\n",
              "      <td>9</td>\n",
              "    </tr>\n",
              "    <tr>\n",
              "      <th>3142</th>\n",
              "      <td>São Paulo</td>\n",
              "      <td>3550308</td>\n",
              "      <td>29</td>\n",
              "      <td>2</td>\n",
              "      <td>2020-02-29</td>\n",
              "      <td>2</td>\n",
              "      <td>0</td>\n",
              "      <td>1,684968e-02</td>\n",
              "      <td>0,0000000</td>\n",
              "      <td>0</td>\n",
              "      <td>0</td>\n",
              "      <td>0,000000e+00</td>\n",
              "      <td>0,0000000</td>\n",
              "      <td>0,0000000000</td>\n",
              "      <td>RM de São Paulo</td>\n",
              "      <td>10</td>\n",
              "      <td>Grande São Paulo</td>\n",
              "      <td>10</td>\n",
              "      <td>11869660</td>\n",
              "      <td>1853286</td>\n",
              "      <td>152111</td>\n",
              "      <td>&lt;50</td>\n",
              "      <td>7.0</td>\n",
              "      <td>-23,5329</td>\n",
              "      <td>-46,6395</td>\n",
              "      <td>9</td>\n",
              "    </tr>\n",
              "  </tbody>\n",
              "</table>\n",
              "</div>"
            ],
            "text/plain": [
              "     nome_munic  codigo_ibge  dia  ...  latitude longitude  semana_epidem\n",
              "562   São Paulo      3550308   25  ...  -23,5329  -46,6395              9\n",
              "1207  São Paulo      3550308   26  ...  -23,5329  -46,6395              9\n",
              "1852  São Paulo      3550308   27  ...  -23,5329  -46,6395              9\n",
              "2497  São Paulo      3550308   28  ...  -23,5329  -46,6395              9\n",
              "3142  São Paulo      3550308   29  ...  -23,5329  -46,6395              9\n",
              "\n",
              "[5 rows x 26 columns]"
            ]
          },
          "metadata": {
            "tags": []
          },
          "execution_count": 30
        }
      ]
    },
    {
      "cell_type": "markdown",
      "metadata": {
        "id": "HqiW4AqQ2jjV"
      },
      "source": [
        "Podemos verificar crescimento exponenciais diferentes durante o ínicio da pandemia, um diferente no meio e outro mais no fim."
      ]
    },
    {
      "cell_type": "code",
      "metadata": {
        "colab": {
          "base_uri": "https://localhost:8080/",
          "height": 502
        },
        "id": "MlZzwWfx1_g1",
        "outputId": "32c2fc21-8e3d-483f-f15c-bcbbb3d830d3"
      },
      "source": [
        "sns.lineplot(x = 'datahora', y = 'casos', data = dados_sp)\n",
        "plt.yscale('log')"
      ],
      "execution_count": 32,
      "outputs": [
        {
          "output_type": "display_data",
          "data": {
            "image/png": "[encoded data removed]",
            "text/plain": [
              "<Figure size 1080x576 with 1 Axes>"
            ]
          },
          "metadata": {
            "tags": []
          }
        }
      ]
    },
    {
      "cell_type": "markdown",
      "metadata": {
        "id": "LEKNkHQA9Ggu"
      },
      "source": [
        "## Desafios"
      ]
    },
    {
      "cell_type": "markdown",
      "metadata": {
        "id": "_X6FPSH_89JJ"
      },
      "source": [
        "\n",
        "### Desafio 1 : Filtrar a base dos dados com alguma outra função\n"
      ]
    },
    {
      "cell_type": "code",
      "metadata": {
        "colab": {
          "base_uri": "https://localhost:8080/",
          "height": 394
        },
        "id": "OLKaSE4a2Kzu",
        "outputId": "11ffb090-0929-4a86-f3da-d3ea08be02ce"
      },
      "source": [
        "dataset_covid[dataset_covid['nome_munic'] == 'São Paulo'].head()"
      ],
      "execution_count": 35,
      "outputs": [
        {
          "output_type": "execute_result",
          "data": {
            "text/html": [
              "<div>\n",
              "<style scoped>\n",
              "    .dataframe tbody tr th:only-of-type {\n",
              "        vertical-align: middle;\n",
              "    }\n",
              "\n",
              "    .dataframe tbody tr th {\n",
              "        vertical-align: top;\n",
              "    }\n",
              "\n",
              "    .dataframe thead th {\n",
              "        text-align: right;\n",
              "    }\n",
              "</style>\n",
              "<table border=\"1\" class=\"dataframe\">\n",
              "  <thead>\n",
              "    <tr style=\"text-align: right;\">\n",
              "      <th></th>\n",
              "      <th>nome_munic</th>\n",
              "      <th>codigo_ibge</th>\n",
              "      <th>dia</th>\n",
              "      <th>mes</th>\n",
              "      <th>datahora</th>\n",
              "      <th>casos</th>\n",
              "      <th>casos_novos</th>\n",
              "      <th>casos_pc</th>\n",
              "      <th>casos_mm7d</th>\n",
              "      <th>obitos</th>\n",
              "      <th>obitos_novos</th>\n",
              "      <th>obitos_pc</th>\n",
              "      <th>obitos_mm7d</th>\n",
              "      <th>letalidade</th>\n",
              "      <th>nome_ra</th>\n",
              "      <th>cod_ra</th>\n",
              "      <th>nome_drs</th>\n",
              "      <th>cod_drs</th>\n",
              "      <th>pop</th>\n",
              "      <th>pop_60</th>\n",
              "      <th>area</th>\n",
              "      <th>map_leg</th>\n",
              "      <th>map_leg_s</th>\n",
              "      <th>latitude</th>\n",
              "      <th>longitude</th>\n",
              "      <th>semana_epidem</th>\n",
              "    </tr>\n",
              "  </thead>\n",
              "  <tbody>\n",
              "    <tr>\n",
              "      <th>562</th>\n",
              "      <td>São Paulo</td>\n",
              "      <td>3550308</td>\n",
              "      <td>25</td>\n",
              "      <td>2</td>\n",
              "      <td>2020-02-25</td>\n",
              "      <td>1</td>\n",
              "      <td>0</td>\n",
              "      <td>8,424841e-03</td>\n",
              "      <td>0,0000000</td>\n",
              "      <td>0</td>\n",
              "      <td>0</td>\n",
              "      <td>0,000000e+00</td>\n",
              "      <td>0,0000000</td>\n",
              "      <td>0,0000000000</td>\n",
              "      <td>RM de São Paulo</td>\n",
              "      <td>10</td>\n",
              "      <td>Grande São Paulo</td>\n",
              "      <td>10</td>\n",
              "      <td>11869660</td>\n",
              "      <td>1853286</td>\n",
              "      <td>152111</td>\n",
              "      <td>&lt;50</td>\n",
              "      <td>7.0</td>\n",
              "      <td>-23,5329</td>\n",
              "      <td>-46,6395</td>\n",
              "      <td>9</td>\n",
              "    </tr>\n",
              "    <tr>\n",
              "      <th>1207</th>\n",
              "      <td>São Paulo</td>\n",
              "      <td>3550308</td>\n",
              "      <td>26</td>\n",
              "      <td>2</td>\n",
              "      <td>2020-02-26</td>\n",
              "      <td>1</td>\n",
              "      <td>0</td>\n",
              "      <td>8,424841e-03</td>\n",
              "      <td>0,0000000</td>\n",
              "      <td>0</td>\n",
              "      <td>0</td>\n",
              "      <td>0,000000e+00</td>\n",
              "      <td>0,0000000</td>\n",
              "      <td>0,0000000000</td>\n",
              "      <td>RM de São Paulo</td>\n",
              "      <td>10</td>\n",
              "      <td>Grande São Paulo</td>\n",
              "      <td>10</td>\n",
              "      <td>11869660</td>\n",
              "      <td>1853286</td>\n",
              "      <td>152111</td>\n",
              "      <td>&lt;50</td>\n",
              "      <td>7.0</td>\n",
              "      <td>-23,5329</td>\n",
              "      <td>-46,6395</td>\n",
              "      <td>9</td>\n",
              "    </tr>\n",
              "    <tr>\n",
              "      <th>1852</th>\n",
              "      <td>São Paulo</td>\n",
              "      <td>3550308</td>\n",
              "      <td>27</td>\n",
              "      <td>2</td>\n",
              "      <td>2020-02-27</td>\n",
              "      <td>1</td>\n",
              "      <td>0</td>\n",
              "      <td>8,424841e-03</td>\n",
              "      <td>0,0000000</td>\n",
              "      <td>0</td>\n",
              "      <td>0</td>\n",
              "      <td>0,000000e+00</td>\n",
              "      <td>0,0000000</td>\n",
              "      <td>0,0000000000</td>\n",
              "      <td>RM de São Paulo</td>\n",
              "      <td>10</td>\n",
              "      <td>Grande São Paulo</td>\n",
              "      <td>10</td>\n",
              "      <td>11869660</td>\n",
              "      <td>1853286</td>\n",
              "      <td>152111</td>\n",
              "      <td>&lt;50</td>\n",
              "      <td>7.0</td>\n",
              "      <td>-23,5329</td>\n",
              "      <td>-46,6395</td>\n",
              "      <td>9</td>\n",
              "    </tr>\n",
              "    <tr>\n",
              "      <th>2497</th>\n",
              "      <td>São Paulo</td>\n",
              "      <td>3550308</td>\n",
              "      <td>28</td>\n",
              "      <td>2</td>\n",
              "      <td>2020-02-28</td>\n",
              "      <td>2</td>\n",
              "      <td>1</td>\n",
              "      <td>1,684968e-02</td>\n",
              "      <td>0,0000000</td>\n",
              "      <td>0</td>\n",
              "      <td>0</td>\n",
              "      <td>0,000000e+00</td>\n",
              "      <td>0,0000000</td>\n",
              "      <td>0,0000000000</td>\n",
              "      <td>RM de São Paulo</td>\n",
              "      <td>10</td>\n",
              "      <td>Grande São Paulo</td>\n",
              "      <td>10</td>\n",
              "      <td>11869660</td>\n",
              "      <td>1853286</td>\n",
              "      <td>152111</td>\n",
              "      <td>&lt;50</td>\n",
              "      <td>7.0</td>\n",
              "      <td>-23,5329</td>\n",
              "      <td>-46,6395</td>\n",
              "      <td>9</td>\n",
              "    </tr>\n",
              "    <tr>\n",
              "      <th>3142</th>\n",
              "      <td>São Paulo</td>\n",
              "      <td>3550308</td>\n",
              "      <td>29</td>\n",
              "      <td>2</td>\n",
              "      <td>2020-02-29</td>\n",
              "      <td>2</td>\n",
              "      <td>0</td>\n",
              "      <td>1,684968e-02</td>\n",
              "      <td>0,0000000</td>\n",
              "      <td>0</td>\n",
              "      <td>0</td>\n",
              "      <td>0,000000e+00</td>\n",
              "      <td>0,0000000</td>\n",
              "      <td>0,0000000000</td>\n",
              "      <td>RM de São Paulo</td>\n",
              "      <td>10</td>\n",
              "      <td>Grande São Paulo</td>\n",
              "      <td>10</td>\n",
              "      <td>11869660</td>\n",
              "      <td>1853286</td>\n",
              "      <td>152111</td>\n",
              "      <td>&lt;50</td>\n",
              "      <td>7.0</td>\n",
              "      <td>-23,5329</td>\n",
              "      <td>-46,6395</td>\n",
              "      <td>9</td>\n",
              "    </tr>\n",
              "  </tbody>\n",
              "</table>\n",
              "</div>"
            ],
            "text/plain": [
              "     nome_munic  codigo_ibge  dia  ...  latitude longitude  semana_epidem\n",
              "562   São Paulo      3550308   25  ...  -23,5329  -46,6395              9\n",
              "1207  São Paulo      3550308   26  ...  -23,5329  -46,6395              9\n",
              "1852  São Paulo      3550308   27  ...  -23,5329  -46,6395              9\n",
              "2497  São Paulo      3550308   28  ...  -23,5329  -46,6395              9\n",
              "3142  São Paulo      3550308   29  ...  -23,5329  -46,6395              9\n",
              "\n",
              "[5 rows x 26 columns]"
            ]
          },
          "metadata": {
            "tags": []
          },
          "execution_count": 35
        }
      ]
    },
    {
      "cell_type": "markdown",
      "metadata": {
        "id": "TCpU-0CM9JmI"
      },
      "source": [
        "### Desafio 2 : Escolher outro município para fazer a análise"
      ]
    },
    {
      "cell_type": "code",
      "metadata": {
        "id": "j9_sM3lk9PHG"
      },
      "source": [
        "dados_municipios = dataset_covid.query('nome_munic == \"Guarulhos\" or nome_munic == \"São Paulo\"')"
      ],
      "execution_count": 41,
      "outputs": []
    },
    {
      "cell_type": "code",
      "metadata": {
        "colab": {
          "base_uri": "https://localhost:8080/",
          "height": 502
        },
        "id": "LUiRUJ9-Bk_R",
        "outputId": "5a1ad274-6ad6-4282-ccbf-e535d85aea88"
      },
      "source": [
        "sns.lineplot(x = 'datahora', y = 'casos', data = dados_municipios, hue = 'nome_munic')\n",
        "plt.yscale('log')"
      ],
      "execution_count": 43,
      "outputs": [
        {
          "output_type": "display_data",
          "data": {
            "image/png": "[encoded data removed]",
            "text/plain": [
              "<Figure size 1080x576 with 1 Axes>"
            ]
          },
          "metadata": {
            "tags": []
          }
        }
      ]
    },
    {
      "cell_type": "code",
      "metadata": {
        "id": "jMu1N-DMB-Qs"
      },
      "source": [
        ""
      ],
      "execution_count": null,
      "outputs": []
    }
  ]
}