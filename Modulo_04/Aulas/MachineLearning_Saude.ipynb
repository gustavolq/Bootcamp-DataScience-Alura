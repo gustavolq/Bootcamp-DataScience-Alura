{
  "nbformat": 4,
  "nbformat_minor": 0,
  "metadata": {
    "colab": {
      "name": "MachineLearning-Saude.ipynb",
      "provenance": [],
      "collapsed_sections": [],
      "authorship_tag": "ABX9TyMjHNYO/gmWtsIx71RUsJse",
      "include_colab_link": true
    },
    "kernelspec": {
      "name": "python3",
      "display_name": "Python 3"
    },
    "language_info": {
      "name": "python"
    }
  },
  "cells": [
    {
      "cell_type": "markdown",
      "metadata": {
        "id": "view-in-github",
        "colab_type": "text"
      },
      "source": [
        "<a href=\"https://colab.research.google.com/github/gustavolq/Bootcamp-DataScience-Alura/blob/main/Modulo_04/Aulas/MachineLearning_Saude.ipynb\" target=\"_parent\"><img src=\"https://colab.research.google.com/assets/colab-badge.svg\" alt=\"Open In Colab\"/></a>"
      ]
    },
    {
      "cell_type": "markdown",
      "metadata": {
        "id": "9OgRRXUjoyCN"
      },
      "source": [
        "# **Machine Learning e Saúde**\n",
        "\n",
        "Olá! Sejá muito bem-vindo(a) ao meu Notebook referente à aula do quarto módulo do Bootcamp de Data Science Aplicada da Alura.\n",
        "\n",
        "Nesse módulo, iremos inicializar o desenvolvimento de um projeto prático que passará por todo o worklfow em Data Science, do entendimento do problema até a proposta de solução utilizando Machine Learning.\n",
        "\n",
        "Iremos trabalhar com dados da COVID-19 do hospital Sírio Libânes."
      ]
    },
    {
      "cell_type": "markdown",
      "metadata": {
        "id": "UCI0E-yzpV2h"
      },
      "source": [
        "## **1. Introdução**\n",
        "\n",
        "No curso, iremos iniciar nosso mergulho em Machine Learning, iniciando os trabalhos para resolver um problema real proposto pelo hospital Sírio Libânes."
      ]
    },
    {
      "cell_type": "markdown",
      "metadata": {
        "id": "MC5KfKgCq_8a"
      },
      "source": [
        "## **2. Entendendo o Problema e Iniciando no Kaggle**\n",
        "\n",
        "Iremos realizar a utilização dos dados da COVID-19 do hospital Sírio Libânes, que se encontram no [Kaggle](https://www.kaggle.com/S%C3%ADrio-Libanes/covid19), um portal muito utilizado para os estudos em Ciência de Dados.\n",
        "\n",
        "Por motivos de aprendizagem de novas tecnologias, todo o estudo será realizado no [meu Notebook do Kaggle](https://www.kaggle.com/gustavoluizquadra/machine-learning-e-saude/edit).\n",
        "\n",
        "O objetivo do estudo será a previsão de admissão ou não admissão de um paciente para a ICU (UTI - Unidade de Terapia Intensiva), sendo assim, um exemplo de classificação binária (0 e 1, não e sim)."
      ]
    },
    {
      "cell_type": "code",
      "metadata": {
        "id": "hRf8bk5hOQ8r"
      },
      "source": [
        ""
      ],
      "execution_count": null,
      "outputs": []
    }
  ]
}